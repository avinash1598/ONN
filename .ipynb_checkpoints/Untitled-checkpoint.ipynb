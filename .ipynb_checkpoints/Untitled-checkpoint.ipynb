{
 "cells": [
  {
   "cell_type": "code",
   "execution_count": 79,
   "id": "c5d09814-f0a4-4d7c-9476-76a5617fff66",
   "metadata": {},
   "outputs": [],
   "source": [
    "import numpy as np\n",
    "from scipy.integrate import ode\n",
    "import matplotlib.pyplot as plt\n",
    "\n",
    "# dz/dt =z(μ+iω−|z|^2)\n",
    "def model(t, z, omega, beta, mu):\n",
    "    # z: complex variable describing trajectory of dynamical system\n",
    "    # omega: Natural frequency of Hopf oscillator (TODO: Make this dynamic later)\n",
    "    # beta: Value is 1 for supercritical Hopf oscillator\n",
    "    # t: Instantaneous time\n",
    "    # mu: Describes the limit cycle radius - determines the amplitude of oscillation\n",
    "    z_cmplx = 1j*z[0] + z[1]\n",
    "    dzdt = (z_cmplx)*(mu + 1j*omega + beta*( abs(z_cmplx)**2 ))\n",
    "    #print(dzdt.imag)\n",
    "    # Don't just return dzdt since it is in complex form represented as tuple\n",
    "    return [1j*dzdt.imag, dzdt.real]"
   ]
  },
  {
   "cell_type": "code",
   "execution_count": 83,
   "id": "e45640d1-307e-4c83-939b-7a208363ea3b",
   "metadata": {},
   "outputs": [
    {
     "data": {
      "text/plain": [
       "[<matplotlib.lines.Line2D at 0x7f3268552820>]"
      ]
     },
     "execution_count": 83,
     "metadata": {},
     "output_type": "execute_result"
    },
    {
     "data": {
      "image/png": "[encoded data removed]",
      "text/plain": [
       "<Figure size 640x480 with 1 Axes>"
      ]
     },
     "metadata": {},
     "output_type": "display_data"
    }
   ],
   "source": [
    "# Initial conditions\n",
    "z0 = [-1j, -5]\n",
    "t0 = 0\n",
    "\n",
    "# Additional variables\n",
    "omega = 5\n",
    "beta = -1\n",
    "mu = 1\n",
    "\n",
    "# Final state\n",
    "t1 = 10\n",
    "dt = 0.01\n",
    "\n",
    "r = ode(model).set_integrator('zvode', method='bdf')\n",
    "r.set_initial_value(z0, t0).set_f_params(omega, beta, mu)\n",
    "\n",
    "length = int(t1/dt)\n",
    "output = [0]*length\n",
    "time = [0]*length\n",
    "\n",
    "while r.successful() and r.t < t1:\n",
    "    idx = int( r.t/dt )\n",
    "    z_next = r.integrate(r.t+dt)\n",
    "    # Store only real values as we will be plotting real values only\n",
    "    #rint(z_next)\n",
    "    output[idx] = z_next.imag[0]\n",
    "    time[idx] = r.t\n",
    "    #print(r.t+dt, output[idx])\n",
    "\n",
    "plt.plot(time, output)\n",
    "\n",
    "# extract real part\n",
    "#x = [ele.real[1] for ele in output]\n",
    "# extract imaginary part\n",
    "#y = [ele.imag[0] for ele in output]\n",
    "\n",
    "# plot the complex numbers\n",
    "#plt.scatter(x, y)\n",
    "#plt.ylabel('Imaginary')\n",
    "#plt.xlabel('Real')\n",
    "#plt.show()"
   ]
  },
  {
   "cell_type": "code",
   "execution_count": null,
   "id": "aee1cdac-88aa-4911-9408-22b58a14e9dc",
   "metadata": {},
   "outputs": [],
   "source": []
  },
  {
   "cell_type": "code",
   "execution_count": null,
   "id": "ad5a77ab-e325-46fe-90c7-71bb6f60c937",
   "metadata": {},
   "outputs": [],
   "source": []
  }
 ],
 "metadata": {
  "kernelspec": {
   "display_name": "ranjan_env",
   "language": "python",
   "name": "ranjan_env"
  },
  "language_info": {
   "codemirror_mode": {
    "name": "ipython",
    "version": 3
   },
   "file_extension": ".py",
   "mimetype": "text/x-python",
   "name": "python",
   "nbconvert_exporter": "python",
   "pygments_lexer": "ipython3",
   "version": "3.9.7"
  }
 },
 "nbformat": 4,
 "nbformat_minor": 5
}
