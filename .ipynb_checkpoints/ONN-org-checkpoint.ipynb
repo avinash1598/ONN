{
 "cells": [
  {
   "cell_type": "code",
   "execution_count": 138,
   "id": "4917c2c3-c482-4c84-b601-6c21fa8f0f63",
   "metadata": {},
   "outputs": [],
   "source": [
    "\"\"\"\n",
    "TIP: \n",
    "    1. Never use  [[0]*3]*3 for array assignment - This creates three duplicate list. Check out below code to view the weird result it gives:\n",
    "        X = [[2]*3]*2\n",
    "        X[0][0] = 3\n",
    "        print(X)\n",
    "        #Extremely weired!!! This is assigning to all the coloumn 0th element to 3.\n",
    "\"\"\"\n",
    "import numpy as np\n",
    "from scipy.integrate import odeint\n",
    "import matplotlib.pyplot as plt\n",
    "from math import *\n",
    "\n",
    "#TODO: write model here\n",
    "def model(N, MU, R, PHI, W, A, THETA, NEPOCHS):\n",
    "    \"\"\"\n",
    "    Parameters:\n",
    "    NEPOCHS: How long to run the model\n",
    "    \n",
    "    TODO: Later add Iext as well\n",
    "    \n",
    "    Return:\n",
    "    W: Change in W\n",
    "    PHI: Change in pahse\n",
    "    N_PHI_DIFF: Normalized pahse difference\n",
    "    \n",
    "    Miscellaneous:\n",
    "        1. Normalized pahse difference approaches zero ss individual oscillators attain equillibrium \n",
    "    \"\"\"\n",
    "    # Be careful while changing these assignment!! Check out TIP section\n",
    "    DT = 0.01 # Time step\n",
    "    PHI_ = [[0 for i in range(NEPOCHS)] for j in range(N)] #Capturing change of PHI over time\n",
    "    R_ = [[0 for i in range(NEPOCHS)] for j in range(N)]   #Capturing change of R over time\n",
    "    W_ = [[0 for i in range(NEPOCHS)] for j in range(N)]\n",
    "    \n",
    "    for t in range(NEPOCHS):\n",
    "        # Why are they initializing R and THETA every epoch?\n",
    "        \n",
    "        for i in range(N):\n",
    "            \n",
    "            R[i] = R[i] + ( (MU - R[i]**2)*R[i] + sum( [ A[i][j]*(R[j]**(W[i]/W[j]))*cos( W[i]*( PHI[j]/W[j] - PHI[i]/W[i] + THETA[i][j]/(W[i]*W[j]) ) ) for j in range(N) if j != i] ) )*DT\n",
    "            PHI[i] = PHI[i] + ( W[i] + sum( [ A[i][j]*( R[j]**(W[i]/W[j]) / R[i] )*sin( W[i]*( PHI[j]/W[j] - PHI[i]/W[i] + THETA[i][j]/(W[i]*W[j]) ) ) for j in range(N) if j != i] ) )*DT\n",
    "            \n",
    "            R_[i][t] = R[i]\n",
    "            PHI_[i][t] = PHI[i]\n",
    "            W_[i][t] = W[i] \n",
    "            \n",
    "    return R, PHI, R_, PHI_, W_"
   ]
  },
  {
   "cell_type": "code",
   "execution_count": 177,
   "id": "2f59af4e-c337-46b3-9761-50823dc5512b",
   "metadata": {},
   "outputs": [],
   "source": [
    "#Data structures\n",
    "N = 2                 # Number of oscillators\n",
    "MU = 4                # Oscillator parameter (>0 for supercritical)\n",
    "R = [0 for i in range(N)]             # R vector in polar coordinates for N oscillators\n",
    "PHI = [0 for i in range(N)]           # Ф vector for N oscillators\n",
    "W = [0 for i in range(N)]             # Natural frequencies of N oscillators\n",
    "A = [[0 for i in range(N)] for j in range(N)]         # NxN connectivity matrix for N oscillators\n",
    "THETA = [[0 for i in range(N)] for j in range(N)]     # NxN phase angle difference in complex coupling\n",
    "\n",
    "NEPOCHS = 5000\n",
    "\n",
    "def initialize(N, R, PHI, W, A, THETA):\n",
    "    \"\"\"\n",
    "    Parameters:\n",
    "    R:     Initialize everything to 1\n",
    "    PHI:   2*pi*rand(n, 1) - Uniformly distributed random number from 0 - 2ℼ \n",
    "    W:     { 0.01 + 45*2*pi*rand(n,1) - Given} For now assign in steps of 5\n",
    "    A:     Randomly assign betwwn 0-1 uniformly distributed (TODO: constrain this later)\n",
    "    THETA: Randomly assign between 0 - 2ℼ uniformly distributed\n",
    "    \n",
    "    Return: \n",
    "    R, PHI, W, A, THETA\n",
    "    \"\"\"\n",
    "    R = [1 for i in range(N)]\n",
    "    PHI = 2*pi*np.random.rand(N)\n",
    "    W = [5 + i*5 for i in range(N)]\n",
    "    #TODO: modify W and THETA i) Aij = Aji ii) Aii = 0\n",
    "    A = np.random.rand(N, N)\n",
    "    THETA = 2*pi*np.random.rand(N, N)\n",
    "    \n",
    "    return R, PHI, W, A, THETA\n",
    "    "
   ]
  },
  {
   "cell_type": "code",
   "execution_count": 180,
   "id": "67126c1c-ae0a-42ec-b15a-fe9db9fb8d4a",
   "metadata": {},
   "outputs": [
    {
     "data": {
      "text/plain": [
       "[<matplotlib.lines.Line2D at 0x7f79af24eb50>]"
      ]
     },
     "execution_count": 180,
     "metadata": {},
     "output_type": "execute_result"
    },
    {
     "data": {
      "image/png": "[encoded data removed]",
      "text/plain": [
       "<Figure size 1000x200 with 1 Axes>"
      ]
     },
     "metadata": {},
     "output_type": "display_data"
    }
   ],
   "source": [
    "R, PHI, W, A, THETA = initialize(N, R, PHI, W, A, THETA)\n",
    "R, PHI, R_, PHI_, W_ = model(N, MU, R, PHI, W, A, THETA, NEPOCHS)\n",
    "\n",
    "t = [i for i in range(NEPOCHS)]\n",
    "#print(PHI_[0])\n",
    "\n",
    "X = [np.multiply(R_[i], np.cos(PHI_[i])) for i in range(N)] \n",
    "N_PHI_DIFF = np.multiply(PHI_[1], 1/W[1]) - np.multiply(PHI_[0], 1/W[0])\n",
    "\n",
    "f = plt.figure()\n",
    "f.set_figwidth(10)\n",
    "f.set_figheight(2)\n",
    "#plt.plot(t, X[0])\n",
    "#plt.plot(t, X[1])\n",
    "#plt.plot(t, W_[0])\n",
    "#plt.plot(t, W_[1])\n",
    "plt.plot(t, N_PHI_DIFF)\n",
    "\n",
    "#plt.axes(projection = 'polar')\n",
    "#plt.polar(PHI_[0], R_[0], 'g.')\n",
    "#plt.show()\n",
    "#plt.polar(PHI_[1], R_[1], 'g.')\n",
    "#plt.show()\n"
   ]
  },
  {
   "cell_type": "code",
   "execution_count": null,
   "id": "f5cd3a48-f7e4-4d29-b7c8-d97679cb1323",
   "metadata": {},
   "outputs": [],
   "source": []
  },
  {
   "cell_type": "code",
   "execution_count": null,
   "id": "2c1ca80d-a28f-43ef-9efd-059313ecae45",
   "metadata": {},
   "outputs": [],
   "source": []
  }
 ],
 "metadata": {
  "kernelspec": {
   "display_name": "ranjan_env",
   "language": "python",
   "name": "ranjan_env"
  },
  "language_info": {
   "codemirror_mode": {
    "name": "ipython",
    "version": 3
   },
   "file_extension": ".py",
   "mimetype": "text/x-python",
   "name": "python",
   "nbconvert_exporter": "python",
   "pygments_lexer": "ipython3",
   "version": "3.9.7"
  }
 },
 "nbformat": 4,
 "nbformat_minor": 5
}
