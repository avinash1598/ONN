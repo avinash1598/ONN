{
 "cells": [
  {
   "cell_type": "code",
   "execution_count": 33,
   "id": "29a82985-f2ce-4da3-a0a3-b7d626bc945e",
   "metadata": {},
   "outputs": [
    {
     "name": "stdout",
     "output_type": "stream",
     "text": [
      "[[1]\n",
      " [2]\n",
      " [3]]\n",
      "[[1.         0.5        0.33333333]\n",
      " [2.         1.         0.66666667]\n",
      " [3.         1.5        1.        ]]\n",
      "[[  2.           1.41421356   1.25992105]\n",
      " [ 16.           4.           2.5198421 ]\n",
      " [216.          14.69693846   6.        ]]\n",
      "[[  8.           5.65685425   5.0396842 ]\n",
      " [ 64.          16.          10.0793684 ]\n",
      " [864.          58.78775383  24.        ]]\n",
      "[[  4.           2.82842712   2.5198421 ]\n",
      " [ 16.           4.           2.5198421 ]\n",
      " [144.           9.79795897   4.        ]]\n",
      "[  9.34826922  22.5198421  157.79795897]\n"
     ]
    }
   ],
   "source": [
    "import numpy as np\n",
    "from scipy.integrate import odeint\n",
    "import matplotlib.pyplot as plt\n",
    "from math import *\n",
    "\n",
    "X = np.array([1, 2, 3]);\n",
    "R = np.array([2, 4, 6]);\n",
    "A = np.array([2, 2, 2]);\n",
    "X = X[:,None]\n",
    "R = R[:,None]\n",
    "A = A[:,None]\n",
    "A = A*A.T\n",
    "#Wij = np.multiply(X[:,None], 1/X[None,:]);\n",
    "#A = X/R;\n",
    "#B = A[:,None] - A[None,:]\n",
    "#C = np.power(A, B)\n",
    "#D = np.multiply(B, C)\n",
    "#E = B*C*D + 1\n",
    "F = A*np.power(R, X*(1/X.T)) / R\n",
    "print(X)\n",
    "print(np.multiply(X, (1/X.T)))\n",
    "print(np.power(R, X*(1/X.T)))\n",
    "print(A*np.power(R, X*(1/X.T)))\n",
    "print(F)\n",
    "print(np.sum(F, axis=1))\n",
    "#print(B)\n",
    "#print(C)\n",
    "#print(D)\n",
    "#print(E)\n",
    "#print(np.random.rand(2))"
   ]
  },
  {
   "cell_type": "code",
   "execution_count": null,
   "id": "d68ffbf4-8e3c-4f3d-aadb-e6903e8eebec",
   "metadata": {},
   "outputs": [],
   "source": []
  },
  {
   "cell_type": "code",
   "execution_count": null,
   "id": "04f26d6d-1368-4d58-a2b7-aabbdec8745d",
   "metadata": {},
   "outputs": [],
   "source": []
  }
 ],
 "metadata": {
  "kernelspec": {
   "display_name": "ranjan_env",
   "language": "python",
   "name": "ranjan_env"
  },
  "language_info": {
   "codemirror_mode": {
    "name": "ipython",
    "version": 3
   },
   "file_extension": ".py",
   "mimetype": "text/x-python",
   "name": "python",
   "nbconvert_exporter": "python",
   "pygments_lexer": "ipython3",
   "version": "3.9.7"
  }
 },
 "nbformat": 4,
 "nbformat_minor": 5
}
