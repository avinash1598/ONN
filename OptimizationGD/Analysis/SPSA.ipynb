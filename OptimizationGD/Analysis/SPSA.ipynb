{
 "cells": [
  {
   "cell_type": "code",
   "execution_count": 1,
   "id": "1f29c219-21a3-4017-b77a-7e5fd52f2dd1",
   "metadata": {
    "tags": []
   },
   "outputs": [
    {
     "name": "stdout",
     "output_type": "stream",
     "text": [
      "Solution found:\n",
      "x = [0. 0. 0. 0. 0. 0.]\n",
      "f(x) = 0.0\n"
     ]
    },
    {
     "data": {
      "text/plain": [
       "array([[0, 0, 0, 0],\n",
       "       [0, 0, 0, 0],\n",
       "       [0, 0, 0, 0],\n",
       "       [0, 0, 0, 0]])"
      ]
     },
     "execution_count": 1,
     "metadata": {},
     "output_type": "execute_result"
    }
   ],
   "source": [
    "import numpy as np\n",
    "from scipy.optimize import minimize\n",
    "\n",
    "def objective(x):\n",
    "    #print(\"inside\")\n",
    "    return np.sum(x ** 2)  # example objective function\n",
    "\n",
    "# create an example adjacency matrix\n",
    "N = 4\n",
    "adj_matrix = np.random.randint(0, 2, size=(N, N))\n",
    "weights = adj_matrix.ravel()  # convert to 1D array\n",
    "\n",
    "# create a mask for non-zero values in the adjacency matrix\n",
    "mask = weights != 0\n",
    "x0 = weights[mask].astype(float)  # set initial guess for x as the non-zero weights\n",
    "bounds = [(0, 1)] * len(x0)  # bounds for each element of x (0 <= weight <= 1) for non-zero weights\n",
    "#bounds = [(0, 0)] * (len(weights) - len(x0)) + bounds  # set bounds to 0 for zero weights\n",
    "options = {'maxiter': 3}  # maximum number of iterations\n",
    "\n",
    "result = minimize(objective, x0, method='SLSQP', bounds=bounds, options=options)\n",
    "\n",
    "# # set the optimized weights in the adjacency matrix\n",
    "weights[mask] = result.x\n",
    "adj_matrix = weights.reshape(4, 4)\n",
    "print(\"Solution found:\")\n",
    "print(\"x =\", result.x)\n",
    "print(\"f(x) =\", result.fun)\n",
    "weights\n",
    "adj_matrix"
   ]
  },
  {
   "cell_type": "code",
   "execution_count": 2,
   "id": "4c517df8-1efd-4fd6-957f-1c9c80442076",
   "metadata": {
    "tags": []
   },
   "outputs": [
    {
     "name": "stdout",
     "output_type": "stream",
     "text": [
      "inside\n",
      "inside\n",
      "inside\n",
      "inside\n",
      "inside\n",
      "inside\n",
      "inside\n",
      "inside\n",
      "inside\n",
      "inside\n",
      "inside\n",
      "inside\n",
      "Weights updated to: [6.66133815e-16 1.55431223e-15 8.88178420e-16 4.44089210e-16\n",
      " 1.33226763e-15 4.44089210e-16 8.88178420e-16 1.11022302e-15\n",
      " 8.88178420e-16 8.88178420e-16]\n",
      "inside\n",
      "inside\n",
      "inside\n",
      "inside\n",
      "inside\n",
      "inside\n",
      "inside\n",
      "inside\n",
      "inside\n",
      "inside\n",
      "Weights updated to: [6.66133815e-16 1.55431223e-15 8.88178420e-16 4.44089210e-16\n",
      " 1.33226763e-15 4.44089210e-16 8.88178420e-16 1.11022302e-15\n",
      " 8.88178420e-16 8.88178420e-16]\n",
      "Solution found:\n",
      "x = [6.66133815e-16 1.55431223e-15 8.88178420e-16 4.44089210e-16\n",
      " 1.33226763e-15 4.44089210e-16 8.88178420e-16 1.11022302e-15\n",
      " 8.88178420e-16 8.88178420e-16]\n",
      "f(x) = 9.417027056075828e-30\n"
     ]
    }
   ],
   "source": [
    "import numpy as np\n",
    "from scipy.optimize import minimize\n",
    "\n",
    "def objective(x):\n",
    "    print(\"inside\")\n",
    "    return np.sum(x ** 2)  # example objective function\n",
    "\n",
    "def my_callback(xk):\n",
    "    print(\"Weights updated to:\", xk)\n",
    "    # add your custom code here\n",
    "\n",
    "# create an example adjacency matrix\n",
    "N = 4\n",
    "adj_matrix = np.random.randint(0, 2, size=(N, N))\n",
    "weights = adj_matrix.ravel()  # convert to 1D array\n",
    "\n",
    "# create a mask for non-zero values in the adjacency matrix\n",
    "mask = weights != 0\n",
    "x0 = weights[mask].astype(float)  # set initial guess for x as the non-zero weights\n",
    "bounds = [(0, 1)] * len(x0)  # bounds for each element of x (0 <= weight <= 1) for non-zero weights\n",
    "#bounds = [(0, 0)] * (len(weights) - len(x0)) + bounds  # set bounds to 0 for zero weights\n",
    "options = {'maxiter': 3}  # maximum number of iterations\n",
    "\n",
    "result = minimize(objective, x0, method='SLSQP', bounds=bounds, options=options, callback=my_callback)\n",
    "\n",
    "# set the optimized weights in the adjacency matrix\n",
    "#adj_matrix[mask] = result.x\n",
    "print(\"Solution found:\")\n",
    "print(\"x =\", result.x)\n",
    "print(\"f(x) =\", result.fun)\n",
    "\n"
   ]
  },
  {
   "cell_type": "code",
   "execution_count": null,
   "id": "6db9cd3b-8072-4832-a671-2696648c0ef9",
   "metadata": {},
   "outputs": [],
   "source": []
  }
 ],
 "metadata": {
  "kernelspec": {
   "display_name": "Python 3 (ipykernel)",
   "language": "python",
   "name": "python3"
  },
  "language_info": {
   "codemirror_mode": {
    "name": "ipython",
    "version": 3
   },
   "file_extension": ".py",
   "mimetype": "text/x-python",
   "name": "python",
   "nbconvert_exporter": "python",
   "pygments_lexer": "ipython3",
   "version": "3.9.7"
  }
 },
 "nbformat": 4,
 "nbformat_minor": 5
}
