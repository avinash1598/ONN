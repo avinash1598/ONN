{
 "cells": [
  {
   "cell_type": "code",
   "execution_count": null,
   "id": "c8e498a9-94c3-4c6a-ae20-429a64997f88",
   "metadata": {},
   "outputs": [],
   "source": []
  }
 ],
 "metadata": {
  "kernelspec": {
   "display_name": "ranjan_env",
   "language": "python",
   "name": "ranjan_env"
  },
  "language_info": {
   "codemirror_mode": {
    "name": "ipython",
    "version": 3
   },
   "file_extension": ".py",
   "mimetype": "text/x-python",
   "name": "python",
   "nbconvert_exporter": "python",
   "pygments_lexer": "ipython3",
   "version": "3.9.7"
  }
 },
 "nbformat": 4,
 "nbformat_minor": 5
}
